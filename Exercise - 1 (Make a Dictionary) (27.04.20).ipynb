{
 "cells": [
  {
   "cell_type": "code",
   "execution_count": 18,
   "metadata": {},
   "outputs": [
    {
     "name": "stdout",
     "output_type": "stream",
     "text": [
      "enter the word\n",
      "Moon\n",
      "a natural satellite of planet Earth\n"
     ]
    }
   ],
   "source": [
    "#by me\n",
    "\n",
    "Edict = {\"Moon\":\"a natural satellite of planet Earth\",\n",
    "         \"Star Cluster\":\"Group of stars gravitationally bounded to each other\", \n",
    "        \"Galaxy\":\"Gigantic structures of molecular gas clouds and stars gravitationally bounded with each other\",\n",
    "        \"Planets\":\"a celestial body moving in an elliptical orbit round a star\",\n",
    "        \"Star\":\"Stars are huge celestial bodies made mostly of hydrogen and helium that produce light and heat from the churning nuclear forges inside their cores\",\n",
    "        \"Satellite\":\"satellite is an object that has been intentionally placed into orbit. These objects are called artificial satellites to distinguish them from natural satellites such as Earth's Moon\"\n",
    "        }\n",
    "\n",
    "print(\"enter the word\")\n",
    "word1 = input()\n",
    "word2 = word1\n",
    "print(Edict[word2])"
   ]
  },
  {
   "cell_type": "code",
   "execution_count": 21,
   "metadata": {},
   "outputs": [
    {
     "name": "stdout",
     "output_type": "stream",
     "text": [
      "enter the word :Galaxy\n",
      "Gigantic structures of Dust & gas clouds with billions of stars gravitationally boun with each other\n"
     ]
    }
   ],
   "source": [
    "#learn from someone else\n",
    "\n",
    "Edict = {\"Moon\":\"a natural satellite of planet Earth\",\n",
    "         \"Star Cluster\":\"Group of stars gravitationally bounded to each other\", \n",
    "        \"Galaxy\":\"Gigantic structures of Dust & gas clouds with billions of stars gravitationally boun with each other\",\n",
    "        \"Planets\":\"a celestial body moving in an elliptical orbit round a star\",\n",
    "        \"Star\":\"Stars are huge celestial bodies made mostly of hydrogen and helium that produce light and heat from the churning nuclear forges inside their cores\",\n",
    "        \"Satellite\":\"satellite is an object that has been intentionally placed into orbit. These objects are called artificial satellites to distinguish them from natural satellites such as Earth's Moon\"\n",
    "        }\n",
    "\n",
    "\n",
    "word1 = input(\"enter the word :\")\n",
    "print(Edict[word1])\n"
   ]
  },
  {
   "cell_type": "code",
   "execution_count": null,
   "metadata": {},
   "outputs": [],
   "source": []
  }
 ],
 "metadata": {
  "kernelspec": {
   "display_name": "Python 3",
   "language": "python",
   "name": "python3"
  },
  "language_info": {
   "codemirror_mode": {
    "name": "ipython",
    "version": 3
   },
   "file_extension": ".py",
   "mimetype": "text/x-python",
   "name": "python",
   "nbconvert_exporter": "python",
   "pygments_lexer": "ipython3",
   "version": "3.7.6"
  }
 },
 "nbformat": 4,
 "nbformat_minor": 4
}
